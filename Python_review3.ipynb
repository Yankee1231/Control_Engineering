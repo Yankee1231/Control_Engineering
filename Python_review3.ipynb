{
  "nbformat": 4,
  "nbformat_minor": 0,
  "metadata": {
    "colab": {
      "provenance": [],
      "authorship_tag": "ABX9TyMktmNrrl0rRYB7tmkMl+7S",
      "include_colab_link": true
    },
    "kernelspec": {
      "name": "python3",
      "display_name": "Python 3"
    },
    "language_info": {
      "name": "python"
    }
  },
  "cells": [
    {
      "cell_type": "markdown",
      "metadata": {
        "id": "view-in-github",
        "colab_type": "text"
      },
      "source": [
        "<a href=\"https://colab.research.google.com/github/Yankee1231/Control_Engineering/blob/main/Python_review3_0ipynb.ipynb\" target=\"_parent\"><img src=\"https://colab.research.google.com/assets/colab-badge.svg\" alt=\"Open In Colab\"/></a>"
      ]
    },
    {
      "cell_type": "markdown",
      "source": [
        "* 리스트는 시작과 끝은 [] 기호로 표현하고, 서로 다른 데이터 타입도 묶을 수 있다. (데이터 타입의 종류는 다음 장에서 좀 더 자세히 다룬다.)  \n"
      ],
      "metadata": {
        "id": "2oyOWvg2U-tw"
      }
    },
    {
      "cell_type": "code",
      "source": [
        "list_mixed = [0, 2.5, 'abc']"
      ],
      "metadata": {
        "id": "4rAX-cSwWxg8"
      },
      "execution_count": null,
      "outputs": []
    },
    {
      "cell_type": "markdown",
      "source": [
        "* 리스트는 다음과 같이 여러가지 방법으로 생성할 수 있다."
      ],
      "metadata": {
        "id": "1u1EGRFEW3qg"
      }
    },
    {
      "cell_type": "code",
      "source": [
        "# 비어있는 리스트 생성\n",
        "empty_list = []\n",
        "print(empty_list)"
      ],
      "metadata": {
        "colab": {
          "base_uri": "https://localhost:8080/"
        },
        "id": "pJpZ4kPBW6_e",
        "outputId": "2c0fe336-9b2a-4fe4-89d0-95f22d3c5e87"
      },
      "execution_count": null,
      "outputs": [
        {
          "output_type": "stream",
          "name": "stdout",
          "text": [
            "[]\n"
          ]
        }
      ]
    },
    {
      "cell_type": "code",
      "source": [
        "# 직접 입력해서 생성\n",
        "list_manual = [0, 1, 2, 3, 4]\n",
        "print(list_manual)"
      ],
      "metadata": {
        "colab": {
          "base_uri": "https://localhost:8080/"
        },
        "id": "VZ52VYZEXB14",
        "outputId": "bad33cdc-fa00-4136-bc04-75d26d506e38"
      },
      "execution_count": null,
      "outputs": [
        {
          "output_type": "stream",
          "name": "stdout",
          "text": [
            "[0, 1, 2, 3, 4]\n"
          ]
        }
      ]
    },
    {
      "cell_type": "code",
      "source": [
        "# range 함수를 이용한 생선 (이하 A, B, C 모두 정수)\n",
        "# range(B) - 0 부터 1의 간격을 B보다 작은 정수까지 리스트 생성\n",
        "list_new = list(range(10))\n",
        "print(list_new)\n",
        "\n",
        "# range(A, B) - A부터 시작해 1의 간격으로 B보다 작은 정수까지 리스트 생성\n",
        "list_new = list(range(1,10))\n",
        "print(list_new)\n",
        "\n",
        "# range(A, B, C) - A부터 시작해 C의 간격으로 B보다 작은 정수까지 리스트 생성 (C가 음수일 경우 반대)\n",
        "list_new = list(range(2, 10 , 2))\n",
        "print(list_new)"
      ],
      "metadata": {
        "colab": {
          "base_uri": "https://localhost:8080/"
        },
        "id": "1haSGBFDXJ5L",
        "outputId": "966db590-0abd-41f6-d872-642b3c50e579"
      },
      "execution_count": null,
      "outputs": [
        {
          "output_type": "stream",
          "name": "stdout",
          "text": [
            "[0, 1, 2, 3, 4, 5, 6, 7, 8, 9]\n",
            "[1, 2, 3, 4, 5, 6, 7, 8, 9]\n",
            "[2, 4, 6, 8]\n"
          ]
        }
      ]
    },
    {
      "cell_type": "markdown",
      "source": [
        "* 리스트에 + 연산과 *연산은 조금 특별하게 동작한다.\n",
        "  * +연산은 좌우 리스트를 이어 붙인다.\n",
        "  * *연산은 *왼쪽의 리스트를 오른쪽의 숫자만큼 반복해서 붙인다."
      ],
      "metadata": {
        "id": "WzpnkJ27YHBe"
      }
    },
    {
      "cell_type": "code",
      "source": [
        "# 리스트에서 +연산과 *연산\n",
        "list_manual = [0, 1, 2, 3, 4]\n",
        "list_new = list(range(4, -1, -1))\n",
        "print(list_manual + list_new)\n",
        "print(list_manual*2)"
      ],
      "metadata": {
        "colab": {
          "base_uri": "https://localhost:8080/"
        },
        "id": "sQJlkUC0YeOK",
        "outputId": "137a6a5d-df5f-4e8a-e7e6-e767b0275faf"
      },
      "execution_count": null,
      "outputs": [
        {
          "output_type": "stream",
          "name": "stdout",
          "text": [
            "[0, 1, 2, 3, 4, 4, 3, 2, 1, 0]\n",
            "[0, 1, 2, 3, 4, 0, 1, 2, 3, 4]\n"
          ]
        }
      ]
    },
    {
      "cell_type": "markdown",
      "source": [
        "* 리스트는 다음 예시와 같이 기본 제공되는 함수를 이용해 수정할 수 있다."
      ],
      "metadata": {
        "id": "kirIFYO5ZC7a"
      }
    },
    {
      "cell_type": "code",
      "source": [
        "# list의 맨뒤에 원소 추가하기\n",
        "list_manual = [0, 1, 2, 3, 4]\n",
        "list_manual.append(5)\n",
        "print(list_manual)"
      ],
      "metadata": {
        "colab": {
          "base_uri": "https://localhost:8080/"
        },
        "id": "WVpLNUYlZHxz",
        "outputId": "ee9473b4-8ab9-4e1a-9160-a172a9d56665"
      },
      "execution_count": null,
      "outputs": [
        {
          "output_type": "stream",
          "name": "stdout",
          "text": [
            "[0, 1, 2, 3, 4, 5]\n"
          ]
        }
      ]
    },
    {
      "cell_type": "code",
      "source": [
        "# list의 우너하는 위치에 원 추가하기\n",
        "# insert(position, value) 참고로 시작위치의 값은 0\n",
        "list_manual.insert(2, 10)\n",
        "print(list_manual)"
      ],
      "metadata": {
        "colab": {
          "base_uri": "https://localhost:8080/"
        },
        "id": "LZSDq2XZawcH",
        "outputId": "fb6a3dbc-eebe-480f-80d2-eb32963ec27d"
      },
      "execution_count": null,
      "outputs": [
        {
          "output_type": "stream",
          "name": "stdout",
          "text": [
            "[0, 1, 10, 2, 3, 4, 5]\n"
          ]
        }
      ]
    },
    {
      "cell_type": "code",
      "source": [
        "#  list의 맨 뒤에 원소 제거하기\n",
        "list_manual.pop()\n",
        "print(list_manual)"
      ],
      "metadata": {
        "colab": {
          "base_uri": "https://localhost:8080/"
        },
        "id": "d6MWvu7sZZX8",
        "outputId": "4ad2296a-f085-429b-afdd-eebf4bf517a2"
      },
      "execution_count": null,
      "outputs": [
        {
          "output_type": "stream",
          "name": "stdout",
          "text": [
            "[0, 1, 10, 2, 3, 4]\n"
          ]
        }
      ]
    },
    {
      "cell_type": "code",
      "source": [
        "# list의 원하는 위치에 원소 제거하기\n",
        "# pop(position)\n",
        "list_manual.pop(2)\n",
        "print(list_manual)"
      ],
      "metadata": {
        "colab": {
          "base_uri": "https://localhost:8080/"
        },
        "id": "yCFIJMW5ZlEp",
        "outputId": "a6fdae0d-8eac-4059-b13e-daf7fce8482e"
      },
      "execution_count": null,
      "outputs": [
        {
          "output_type": "stream",
          "name": "stdout",
          "text": [
            "[0, 1, 2, 3, 4]\n"
          ]
        }
      ]
    },
    {
      "cell_type": "markdown",
      "source": [
        "* 그외 여러 가지 편리한 함수들이 기본으로 제공된다."
      ],
      "metadata": {
        "id": "Fw3rCuqRZ1m4"
      }
    },
    {
      "cell_type": "code",
      "source": [
        "# list의 원소 개수 세기\n",
        "num_data =len(list_manual)\n",
        "print(num_data)"
      ],
      "metadata": {
        "colab": {
          "base_uri": "https://localhost:8080/"
        },
        "id": "n5U4MRWuZ86g",
        "outputId": "c91d336c-b806-45df-8c62-93efc5f19ae3"
      },
      "execution_count": null,
      "outputs": [
        {
          "output_type": "stream",
          "name": "stdout",
          "text": [
            "5\n"
          ]
        }
      ]
    },
    {
      "cell_type": "code",
      "source": [
        "# 원소의 위치 찾기(처음으로 발견된 원소의 위치 반환)\n",
        "position = list_manual.index(2)\n",
        "print(position)"
      ],
      "metadata": {
        "colab": {
          "base_uri": "https://localhost:8080/"
        },
        "id": "F4eWOiqeaJgE",
        "outputId": "098324d2-31ae-4d0a-a3fd-043cfdc02435"
      },
      "execution_count": null,
      "outputs": [
        {
          "output_type": "stream",
          "name": "stdout",
          "text": [
            "2\n"
          ]
        }
      ]
    },
    {
      "cell_type": "code",
      "source": [
        "# list 크기순으로 정렬하기(기본 오름차순)\n",
        "list_manual.sort()\n",
        "print(list_manual)\n",
        "list_manual.sort(reverse=True)\n",
        "print(list_manual)"
      ],
      "metadata": {
        "colab": {
          "base_uri": "https://localhost:8080/"
        },
        "id": "T1uagYaNcMye",
        "outputId": "a9d74614-7333-44ef-80b4-709c5f19fdcd"
      },
      "execution_count": null,
      "outputs": [
        {
          "output_type": "stream",
          "name": "stdout",
          "text": [
            "[0, 1, 2, 3, 4]\n",
            "[4, 3, 2, 1, 0]\n"
          ]
        }
      ]
    },
    {
      "cell_type": "code",
      "source": [
        "# 원하는 부위 잘라내기 (슬라이싱)\n",
        "# 하나만 선택해 반환하기\n",
        "print(list_manual[2])"
      ],
      "metadata": {
        "colab": {
          "base_uri": "https://localhost:8080/"
        },
        "id": "5LgEMsFVcUDv",
        "outputId": "facc2626-6e05-4e44-918b-40be46ca1899"
      },
      "execution_count": null,
      "outputs": [
        {
          "output_type": "stream",
          "name": "stdout",
          "text": [
            "2\n"
          ]
        }
      ]
    },
    {
      "cell_type": "code",
      "source": [
        "# [A:B] A위치부터, B보다 '작은'위치까지 선택\n",
        "# [2:4] = 2, 3의 위치 선택\n",
        "print(list_manual[2:4])"
      ],
      "metadata": {
        "colab": {
          "base_uri": "https://localhost:8080/"
        },
        "id": "4b5oYZQOfghY",
        "outputId": "59a387c5-93b3-4856-d976-0ca42d10afca"
      },
      "execution_count": null,
      "outputs": [
        {
          "output_type": "stream",
          "name": "stdout",
          "text": [
            "[2, 3]\n"
          ]
        }
      ]
    },
    {
      "cell_type": "code",
      "source": [
        "# [A:] A위치부터, 끝까지\n",
        "# [:B] 시작부터, B보다 '작은'위치까지 선택\n",
        "print(list_manual[2:])\n",
        "print(list_manual[:4])"
      ],
      "metadata": {
        "colab": {
          "base_uri": "https://localhost:8080/"
        },
        "id": "24sz0JZHjcOP",
        "outputId": "21a0db92-f079-49e4-d0f5-97d3ce6eca70"
      },
      "execution_count": null,
      "outputs": [
        {
          "output_type": "stream",
          "name": "stdout",
          "text": [
            "[2, 3, 4, 5]\n",
            "[0, 1, 2, 3]\n"
          ]
        }
      ]
    },
    {
      "cell_type": "code",
      "source": [
        "# [-A] 맨 뒤에서 부터 A번째\n",
        "print(list_manual[-2])"
      ],
      "metadata": {
        "colab": {
          "base_uri": "https://localhost:8080/"
        },
        "id": "2jIqPKkZkD4q",
        "outputId": "5002d835-8e33-4fc7-a749-34a86b1c82d2"
      },
      "execution_count": null,
      "outputs": [
        {
          "output_type": "stream",
          "name": "stdout",
          "text": [
            "4\n"
          ]
        }
      ]
    },
    {
      "cell_type": "markdown",
      "source": [
        "# 3,2 튜플\n",
        "* 튜플(Tuple)는 List와 같지만 한 번 선언하면, 이후 수정이 불가능한 묶음이다.\n",
        "* 튜플의 시작과 끝은 () 로 표현하고, 나머지는 리스트와 같다."
      ],
      "metadata": {
        "id": "72XV3UPP4llp"
      }
    },
    {
      "cell_type": "code",
      "source": [
        "# 비어있는 튜 플 생성 = 하지만 수엊이 안되기 때문에 사실상 의미가 없다.\n",
        "empty_tuple = ()\n",
        "print(empty_tuple)"
      ],
      "metadata": {
        "colab": {
          "base_uri": "https://localhost:8080/"
        },
        "id": "C4lcemSL4W2Z",
        "outputId": "4574af0e-4ea5-4eba-d5a4-8b543d8ae8ef"
      },
      "execution_count": 66,
      "outputs": [
        {
          "output_type": "stream",
          "name": "stdout",
          "text": [
            "()\n"
          ]
        }
      ]
    },
    {
      "cell_type": "code",
      "source": [
        "# 직접 입력해서 생성\n",
        "tuple_manual = (0, 1, 2, 3, 4)\n",
        "print(tuple_manual)"
      ],
      "metadata": {
        "colab": {
          "base_uri": "https://localhost:8080/"
        },
        "id": "8ckknbe1kROC",
        "outputId": "980beffe-22f3-4ece-fa68-999e8030dce3"
      },
      "execution_count": null,
      "outputs": [
        {
          "output_type": "stream",
          "name": "stdout",
          "text": [
            "(0, 1, 2, 3, 4)\n"
          ]
        }
      ]
    },
    {
      "cell_type": "code",
      "source": [
        "# range 함수를 이용한 생성(이하 A, B, C 모두 정수)\n",
        "print(tuple(range(2, 10, 2)))"
      ],
      "metadata": {
        "colab": {
          "base_uri": "https://localhost:8080/"
        },
        "id": "tco_r1pQkdqK",
        "outputId": "e3615ccc-1fd4-4f1b-e4bf-3d91bfe01945"
      },
      "execution_count": null,
      "outputs": [
        {
          "output_type": "stream",
          "name": "stdout",
          "text": [
            "(2, 4, 6, 8)\n"
          ]
        }
      ]
    },
    {
      "cell_type": "code",
      "source": [
        "len(tuple_manual)"
      ],
      "metadata": {
        "colab": {
          "base_uri": "https://localhost:8080/"
        },
        "id": "_GR7AaNFkmXA",
        "outputId": "4a9f072b-b3a4-4159-d773-5c3c5c855415"
      },
      "execution_count": null,
      "outputs": [
        {
          "output_type": "execute_result",
          "data": {
            "text/plain": [
              "5"
            ]
          },
          "metadata": {},
          "execution_count": 46
        }
      ]
    },
    {
      "cell_type": "code",
      "source": [
        "tuple_manual.index(4)"
      ],
      "metadata": {
        "colab": {
          "base_uri": "https://localhost:8080/"
        },
        "id": "HwANlNwQkqga",
        "outputId": "3c471c47-3d2b-499b-fe13-dfa747d5f5e7"
      },
      "execution_count": null,
      "outputs": [
        {
          "output_type": "execute_result",
          "data": {
            "text/plain": [
              "4"
            ]
          },
          "metadata": {},
          "execution_count": 47
        }
      ]
    },
    {
      "cell_type": "code",
      "source": [
        "tuple_manual[1:]"
      ],
      "metadata": {
        "colab": {
          "base_uri": "https://localhost:8080/"
        },
        "id": "zGsa8Xjekt3_",
        "outputId": "8ba9fa0d-f4ac-4f7a-9286-a829307a7fe6"
      },
      "execution_count": null,
      "outputs": [
        {
          "output_type": "execute_result",
          "data": {
            "text/plain": [
              "(1, 2, 3, 4)"
            ]
          },
          "metadata": {},
          "execution_count": 48
        }
      ]
    },
    {
      "cell_type": "markdown",
      "source": [
        "# 3.3 튜플\n",
        "* 세트(Set)도 List와 유사하지만, 원소의 중복을 허용하지 않는다은 점이 다르다.\n",
        "* 세트의 시작과 끝은 () 기호로 표현하고, 나머지는 리스트와 같다."
      ],
      "metadata": {
        "id": "1QzPcu2t5WDs"
      }
    },
    {
      "cell_type": "code",
      "source": [
        "# 비어있는 세트 생성\n",
        "empty_set = {}\n",
        "print(empty_set)"
      ],
      "metadata": {
        "colab": {
          "base_uri": "https://localhost:8080/"
        },
        "id": "2DWqg2UikxrV",
        "outputId": "cbf26487-8160-4f69-a754-9d2fb8cdd2d3"
      },
      "execution_count": null,
      "outputs": [
        {
          "output_type": "stream",
          "name": "stdout",
          "text": [
            "{}\n"
          ]
        }
      ]
    },
    {
      "cell_type": "code",
      "source": [
        "# 직접 입력해서 생성 - 중복원소는 제거된다.\n",
        "set_manual = {0, 1, 2, 3, 4, 4, 3, 2, 1, 0}\n",
        "print(set_manual)"
      ],
      "metadata": {
        "colab": {
          "base_uri": "https://localhost:8080/"
        },
        "id": "pOw3qN9OlDJz",
        "outputId": "9b79f027-664b-4571-b28d-9dccd114849d"
      },
      "execution_count": null,
      "outputs": [
        {
          "output_type": "stream",
          "name": "stdout",
          "text": [
            "{0, 1, 2, 3, 4}\n"
          ]
        }
      ]
    },
    {
      "cell_type": "code",
      "source": [
        "# range 함수를 이용한 생성 (이하 A , B, C 모두 정수)\n",
        "print(set(range(2, 10, 2)))"
      ],
      "metadata": {
        "colab": {
          "base_uri": "https://localhost:8080/"
        },
        "id": "DCo3xnh0lMgr",
        "outputId": "83c702b4-b1fc-4007-ea35-177745f23d8c"
      },
      "execution_count": null,
      "outputs": [
        {
          "output_type": "stream",
          "name": "stdout",
          "text": [
            "{8, 2, 4, 6}\n"
          ]
        }
      ]
    },
    {
      "cell_type": "code",
      "source": [
        "# 교집합 '&'\n",
        "set_first = {1, 3, 5}\n",
        "set_second = {1, 2, 4, 8}\n",
        "print(set_first&set_second)"
      ],
      "metadata": {
        "colab": {
          "base_uri": "https://localhost:8080/"
        },
        "id": "QB7d7QEGlUpC",
        "outputId": "a740ee48-db30-4d51-a7e7-76e438ca994e"
      },
      "execution_count": null,
      "outputs": [
        {
          "output_type": "stream",
          "name": "stdout",
          "text": [
            "{1}\n"
          ]
        }
      ]
    },
    {
      "cell_type": "code",
      "source": [
        "# 합집합 '|'\n",
        "print(set_first|set_second)"
      ],
      "metadata": {
        "colab": {
          "base_uri": "https://localhost:8080/"
        },
        "id": "olG4H3O6l0fR",
        "outputId": "ed050076-5bc7-4844-ca55-2367d2aeb15d"
      },
      "execution_count": null,
      "outputs": [
        {
          "output_type": "stream",
          "name": "stdout",
          "text": [
            "{1, 2, 3, 4, 5, 8}\n"
          ]
        }
      ]
    },
    {
      "cell_type": "code",
      "source": [
        "# 차집합'-'\n",
        "print(set_first-set_second)"
      ],
      "metadata": {
        "colab": {
          "base_uri": "https://localhost:8080/"
        },
        "id": "pJ9zjquYl7k8",
        "outputId": "218c3338-2f13-4b06-fc5d-3088d53627a2"
      },
      "execution_count": null,
      "outputs": [
        {
          "output_type": "stream",
          "name": "stdout",
          "text": [
            "{3, 5}\n"
          ]
        }
      ]
    },
    {
      "cell_type": "code",
      "source": [
        "# 부분집합 여부 확인\n",
        "# A.issuperset(B) - B가 A의 부분집합인지 여부 (A가 B를 포함하는지 여부)\n",
        "set_third = {1, 3 , 5, 7}\n",
        "set_third.issuperset(set_first)"
      ],
      "metadata": {
        "colab": {
          "base_uri": "https://localhost:8080/"
        },
        "id": "pAyl8zW7mLrW",
        "outputId": "0d402cd1-0df1-4ba1-e410-47ab14ec5118"
      },
      "execution_count": null,
      "outputs": [
        {
          "output_type": "execute_result",
          "data": {
            "text/plain": [
              "True"
            ]
          },
          "metadata": {},
          "execution_count": 57
        }
      ]
    },
    {
      "cell_type": "code",
      "source": [
        "# 원소 여부 확인\n",
        "3 in set_first"
      ],
      "metadata": {
        "colab": {
          "base_uri": "https://localhost:8080/"
        },
        "id": "8JgTwUCPm4ci",
        "outputId": "b63f3339-86c8-473b-f0a9-39a199f5ec96"
      },
      "execution_count": null,
      "outputs": [
        {
          "output_type": "execute_result",
          "data": {
            "text/plain": [
              "True"
            ]
          },
          "metadata": {},
          "execution_count": 59
        }
      ]
    },
    {
      "cell_type": "markdown",
      "source": [
        "# 3.4 딕셔너리\n",
        "* 딕셔너리(Dictionary)는 List와 유사하지만, 위치(index)가 정수가 아닌 'key'라는 임의의 값으로\n",
        "  1. 항목추가\n",
        "  2. 항복추가  \n",
        "관리가 된다.\n",
        "* 딕서너리의 시작과 끝은 ( ) 기호로 세트와 표현 방법이 같지만, 각 원소가 'key value'의 형태로 저장된다."
      ],
      "metadata": {
        "id": "_xNI90dK7mF4"
      }
    },
    {
      "cell_type": "code",
      "source": [
        " my_dictionary = {'name':'John', 'age':15, 'height':1.76}\n",
        "print(my_dictionary)"
      ],
      "metadata": {
        "colab": {
          "base_uri": "https://localhost:8080/"
        },
        "id": "myioD3UFm8yk",
        "outputId": "68dce6b1-c173-4350-c78c-fbab16d15075"
      },
      "execution_count": 67,
      "outputs": [
        {
          "output_type": "stream",
          "name": "stdout",
          "text": [
            "{'name': 'John', 'age': 15, 'height': 1.76}\n"
          ]
        }
      ]
    },
    {
      "cell_type": "markdown",
      "source": [
        "* 선택 방법 역시 List와 유사하지만 위치(index) 대신 'key'로 접근한다."
      ],
      "metadata": {
        "id": "fq2N7Er-8TSj"
      }
    },
    {
      "cell_type": "code",
      "source": [
        "my_dictionary['name']"
      ],
      "metadata": {
        "colab": {
          "base_uri": "https://localhost:8080/",
          "height": 35
        },
        "id": "Ki9vJMgwnd05",
        "outputId": "4393ace3-d47c-4dd4-979c-58002f9a2507"
      },
      "execution_count": 68,
      "outputs": [
        {
          "output_type": "execute_result",
          "data": {
            "text/plain": [
              "'John'"
            ],
            "application/vnd.google.colaboratory.intrinsic+json": {
              "type": "string"
            }
          },
          "metadata": {},
          "execution_count": 68
        }
      ]
    },
    {
      "cell_type": "markdown",
      "source": [
        "* 당연히, 딕서너리가 리스트의 원소가 될 수가 있고, 그 반대도 가능하다."
      ],
      "metadata": {
        "id": "PS4H6g3K8hTU"
      }
    },
    {
      "cell_type": "code",
      "source": [
        "first_user = {'name':'John', 'age':15, 'height':1.76, 'position':[15, 3]}\n",
        "second_user = {'name':'Paul', 'age':17, 'height':1.88, 'position':[-2, 7]}\n",
        "users = [first_user, second_user]\n",
        "print(users[0]['name'])"
      ],
      "metadata": {
        "colab": {
          "base_uri": "https://localhost:8080/"
        },
        "id": "dhHxWYiUnneO",
        "outputId": "e3232604-ae15-4770-c234-f2ca81bdc485"
      },
      "execution_count": null,
      "outputs": [
        {
          "output_type": "stream",
          "name": "stdout",
          "text": [
            "John\n"
          ]
        }
      ]
    }
  ]
}
