{
  "nbformat": 4,
  "nbformat_minor": 0,
  "metadata": {
    "colab": {
      "provenance": [],
      "authorship_tag": "ABX9TyNo/JNLGwP4Lgx26mY8rhPL",
      "include_colab_link": true
    },
    "kernelspec": {
      "name": "python3",
      "display_name": "Python 3"
    },
    "language_info": {
      "name": "python"
    }
  },
  "cells": [
    {
      "cell_type": "markdown",
      "metadata": {
        "id": "view-in-github",
        "colab_type": "text"
      },
      "source": [
        "<a href=\"https://colab.research.google.com/github/Yankee1231/Control_Engineering/blob/main/Python_review.ipynb\" target=\"_parent\"><img src=\"https://colab.research.google.com/assets/colab-badge.svg\" alt=\"Open In Colab\"/></a>"
      ]
    },
    {
      "cell_type": "markdown",
      "source": [
        "# 2. Python 기초 문법   \n",
        "\n",
        "### 2.1 주석\n",
        "* 한줄 주석: #기호롤 시작하는 구문은 주석이 된다.\n"
      ],
      "metadata": {
        "id": "NGNU7Lu_KE_R"
      }
    },
    {
      "cell_type": "code",
      "source": [
        "# helloworld\n",
        "print('hello world')"
      ],
      "metadata": {
        "colab": {
          "base_uri": "https://localhost:8080/"
        },
        "id": "_YKSwUhbKSFJ",
        "outputId": "e2e75d25-ec68-481a-d28a-507580e78791"
      },
      "execution_count": 1,
      "outputs": [
        {
          "output_type": "stream",
          "name": "stdout",
          "text": [
            "hello world\n"
          ]
        }
      ]
    },
    {
      "cell_type": "markdown",
      "source": [
        "* 주석 블럭: 기호(작은 따옴표 세개) 또는 \"\"\"기호(큰 따옴표 세개)로 둘러싼 블럭은 주석이 된다."
      ],
      "metadata": {
        "id": "w9giJF93OVhd"
      }
    },
    {
      "cell_type": "code",
      "source": [
        "'''\n",
        "Function name : helloworld()\n",
        "This function prints 'hello world'\n",
        "'''\n",
        "def helloworld():\n",
        "    print('helloworld')\n",
        "\n",
        "helloworld()"
      ],
      "metadata": {
        "colab": {
          "base_uri": "https://localhost:8080/"
        },
        "id": "C75W9ztRPjAh",
        "outputId": "7addc8c6-8241-4382-e03b-59a16d8c703d"
      },
      "execution_count": 2,
      "outputs": [
        {
          "output_type": "stream",
          "name": "stdout",
          "text": [
            "helloworld\n"
          ]
        }
      ]
    },
    {
      "cell_type": "markdown",
      "source": [
        "# 2.2 들여쓰기와 코드 블럭\n",
        "* 들여쓰기는 python에서 매우 중요한 역할을 하기 때문에 주의깊게 사용해야한다.  \n",
        "* 들여쓰기가 잘못된 경우 에러가 발생한다. Indentation Error\n",
        "* 들여쓰기 공백(space) 개수와 탭(tab) 개수로 구분하나, 가독성과 일관성을 위해 탭 개수로 구분하는 것을 추천한다.\n",
        "* 역할1: 반복/제어 구문의 적용 범위를 나타낸다."
      ],
      "metadata": {
        "id": "50-zKvdgQDms"
      }
    },
    {
      "cell_type": "code",
      "source": [
        "print('start')\n",
        "for i in range(10):\n",
        "    if i>5:\n",
        "        print('i = %d > 5' % i)\n",
        "        # if의 범위는 여기까지다.\n",
        "    elif i < 5:\n",
        "        print('I = %d < 5' % i)\n",
        "    else :\n",
        "      print('i = %d = 5' % i)\n",
        "    # for의 범위는 여기까지다.\n",
        "print('end')"
      ],
      "metadata": {
        "colab": {
          "base_uri": "https://localhost:8080/"
        },
        "id": "uhbvuHJGQlML",
        "outputId": "42b65c38-70af-457d-91b2-8c5db3f42008"
      },
      "execution_count": 3,
      "outputs": [
        {
          "output_type": "stream",
          "name": "stdout",
          "text": [
            "start\n",
            "I = 0 < 5\n",
            "I = 1 < 5\n",
            "I = 2 < 5\n",
            "I = 3 < 5\n",
            "I = 4 < 5\n",
            "i = 5 = 5\n",
            "i = 6 > 5\n",
            "i = 7 > 5\n",
            "i = 8 > 5\n",
            "i = 9 > 5\n",
            "end\n"
          ]
        }
      ]
    },
    {
      "cell_type": "markdown",
      "source": [
        "* 역할2: 함수/클래스 정의 범위를 나타낸다."
      ],
      "metadata": {
        "id": "XoN524DXRV2K"
      }
    },
    {
      "cell_type": "code",
      "source": [
        "def function1():\n",
        "    print('function start')\n",
        "    print('function end')\n",
        "# 여기까지 함수의 영역이다.\n",
        "\n",
        "print('script start')\n",
        "function1()\n",
        "print('script end')"
      ],
      "metadata": {
        "colab": {
          "base_uri": "https://localhost:8080/"
        },
        "id": "Pvg8BV6DRfV2",
        "outputId": "339b6f3d-dcd0-48a7-fbdf-3b800a915cee"
      },
      "execution_count": 5,
      "outputs": [
        {
          "output_type": "stream",
          "name": "stdout",
          "text": [
            "script start\n",
            "function start\n",
            "function end\n",
            "script end\n"
          ]
        }
      ]
    },
    {
      "cell_type": "markdown",
      "source": [
        "# 2.3 입출력하기\n",
        "* 입력받기 input()  \n",
        "  * 화면을통해 키보드로 입력을 받아 변수에 저장하게 해주는 함수이다.\n"
      ],
      "metadata": {
        "id": "uMoLbXi4R2Qy"
      }
    },
    {
      "cell_type": "code",
      "source": [
        "a = input()\n",
        "print(a)"
      ],
      "metadata": {
        "id": "roGepAMKSIPS",
        "colab": {
          "base_uri": "https://localhost:8080/"
        },
        "outputId": "5b05bf8d-6380-4189-928b-93ac2eb7e7de"
      },
      "execution_count": 6,
      "outputs": [
        {
          "output_type": "stream",
          "name": "stdout",
          "text": [
            "ㅑ\n",
            "ㅑ\n"
          ]
        }
      ]
    },
    {
      "cell_type": "markdown",
      "source": [
        "* 출력하기 pritn()  \n",
        "  * 원하는 내용을 화면에 출력할 수 있게 해주는 함수이다.\n",
        "  * '  ' 사이에 출력할 내용의 표현식을 적는다.  \n",
        "  * 정해진 내용이 아닌, 변수에 따라 달라질 내용은 변수형에 따라 %d(정수) %f(실수) %s(문자열)을 넣는다.   \n",
        "    * %.1f(실수를 소숫점 첫째 자리까지만 표시)\n",
        "  * '  ' 우측에 % 기호를 넣고 이어서 () 안에 표현식에 대입할 변수들을 차례로 입력한다."
      ],
      "metadata": {
        "id": "vecFPIPCSOMh"
      }
    }
  ]
}