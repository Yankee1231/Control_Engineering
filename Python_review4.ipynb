{
  "nbformat": 4,
  "nbformat_minor": 0,
  "metadata": {
    "colab": {
      "provenance": [],
      "toc_visible": true,
      "authorship_tag": "ABX9TyNDQcmuoYWbuBJk3JaulALa",
      "include_colab_link": true
    },
    "kernelspec": {
      "name": "python3",
      "display_name": "Python 3"
    },
    "language_info": {
      "name": "python"
    }
  },
  "cells": [
    {
      "cell_type": "markdown",
      "metadata": {
        "id": "view-in-github",
        "colab_type": "text"
      },
      "source": [
        "<a href=\"https://colab.research.google.com/github/Yankee1231/Control_Engineering/blob/main/Python_review4.ipynb\" target=\"_parent\"><img src=\"https://colab.research.google.com/assets/colab-badge.svg\" alt=\"Open In Colab\"/></a>"
      ]
    },
    {
      "cell_type": "code",
      "execution_count": null,
      "metadata": {
        "colab": {
          "base_uri": "https://localhost:8080/"
        },
        "id": "3C8gb6vstphB",
        "outputId": "86a30310-8b26-4936-dc25-14228f3d3ffb"
      },
      "outputs": [
        {
          "output_type": "stream",
          "name": "stdout",
          "text": [
            "number =  2.5\n"
          ]
        }
      ],
      "source": [
        "#변수의 좋은 예\n",
        "pos_x = 10\n",
        "num_values = 5\n",
        "_event_flag = False\n",
        "\n",
        "# 변수의 나쁜 예\n",
        "abc = 4\n",
        "al = 50\n",
        "xxxx = 3.4\n",
        "temp1 = 4\n",
        "temp2 = 5\n",
        "\n",
        "# 정수\n",
        "number = 5\n",
        "\n",
        "# 실수\n",
        "value = 2.5\n",
        "\n",
        "# bool\n",
        "is_number = True\n",
        "\n",
        "# 문자열(string)\n",
        "name = 'Ivan'\n",
        "\n",
        "# 정수가 실수로 바뀌는 경우\n",
        "number = number / 2\n",
        "print('number = ', number)"
      ]
    },
    {
      "cell_type": "code",
      "source": [
        "a = 10\n",
        "b = 2.5\n",
        "print(a+b, a-b, a*b, a/b, a//b, a%b, a**b)\n",
        "print(a>b, a>=b, a<b, a<=b, a==b, a!=b, a>b or a<=b, a>b and a<=b)"
      ],
      "metadata": {
        "colab": {
          "base_uri": "https://localhost:8080/"
        },
        "id": "F8tUydVVurMh",
        "outputId": "2a08e205-d315-4e50-bfc2-073acb1b4286"
      },
      "execution_count": null,
      "outputs": [
        {
          "output_type": "stream",
          "name": "stdout",
          "text": [
            "12.5 7.5 25.0 4.0 4.0 0.0 316.22776601683796\n",
            "True True False False False True True False\n"
          ]
        }
      ]
    },
    {
      "cell_type": "code",
      "source": [
        "# numpy 라이브러리의 활용법은 나중에 좀 더 자세히 다룰 예정입니다.\n",
        "import numpy as np\n",
        "angle = np.pi/4\n",
        "print(angle)\n",
        "print(np.sin(angle))\n",
        "print(np.cos(angle))\n",
        "print(np.exp(angle))\n",
        "print(np.round(angle))\n",
        "print(np.ceil(angle))\n",
        "print(np.floor(angle))"
      ],
      "metadata": {
        "colab": {
          "base_uri": "https://localhost:8080/"
        },
        "id": "DpYzibUQvEgL",
        "outputId": "d180b97f-df57-4470-ce8f-a446b9d3d02e"
      },
      "execution_count": null,
      "outputs": [
        {
          "output_type": "stream",
          "name": "stdout",
          "text": [
            "0.7853981633974483\n",
            "0.7071067811865475\n",
            "0.7071067811865476\n",
            "2.1932800507380152\n",
            "1.0\n",
            "1.0\n",
            "0.0\n"
          ]
        }
      ]
    },
    {
      "cell_type": "code",
      "source": [
        "for i in [4, 'text', 1.5, True, {'name':'Charles', 'age':15}]:\n",
        "    print(i)"
      ],
      "metadata": {
        "colab": {
          "base_uri": "https://localhost:8080/"
        },
        "id": "M2Ka0rJBvp1o",
        "outputId": "d73da7eb-b964-4687-8a0f-a1ebbb6ccc3d"
      },
      "execution_count": null,
      "outputs": [
        {
          "output_type": "stream",
          "name": "stdout",
          "text": [
            "4\n",
            "text\n",
            "1.5\n",
            "True\n",
            "{'name': 'Charles', 'age': 15}\n"
          ]
        }
      ]
    },
    {
      "cell_type": "code",
      "source": [
        "for i in range(5):\n",
        "    print(i)"
      ],
      "metadata": {
        "colab": {
          "base_uri": "https://localhost:8080/"
        },
        "id": "GK9ucXNJwMaj",
        "outputId": "e98dc698-1bf8-4591-cb94-8c504f97267f"
      },
      "execution_count": null,
      "outputs": [
        {
          "output_type": "stream",
          "name": "stdout",
          "text": [
            "0\n",
            "1\n",
            "2\n",
            "3\n",
            "4\n"
          ]
        }
      ]
    },
    {
      "cell_type": "code",
      "source": [
        "for i in range(5):\n",
        "    if i==3:\n",
        "        continue\n",
        "    print(i)"
      ],
      "metadata": {
        "colab": {
          "base_uri": "https://localhost:8080/"
        },
        "id": "dvjZrWcvxADR",
        "outputId": "730f7fda-8a02-4130-dc39-b2ca37dcf132"
      },
      "execution_count": null,
      "outputs": [
        {
          "output_type": "stream",
          "name": "stdout",
          "text": [
            "0\n",
            "1\n",
            "2\n",
            "4\n"
          ]
        }
      ]
    },
    {
      "cell_type": "code",
      "source": [
        "for i in range(5):\n",
        "    if i==3:\n",
        "        break\n",
        "    for j in range(5):\n",
        "        if j==2:\n",
        "            break\n",
        "        print(i, j)"
      ],
      "metadata": {
        "colab": {
          "base_uri": "https://localhost:8080/"
        },
        "id": "afK-pLZOxMUp",
        "outputId": "8b073425-d854-496d-ae88-c3bec0e37744"
      },
      "execution_count": null,
      "outputs": [
        {
          "output_type": "stream",
          "name": "stdout",
          "text": [
            "0 0\n",
            "0 1\n",
            "1 0\n",
            "1 1\n",
            "2 0\n",
            "2 1\n"
          ]
        }
      ]
    },
    {
      "cell_type": "code",
      "source": [
        "i = [1, 2, 3, 4, -1, 5, 6, 7, 8]\n",
        "j = []\n",
        "count = 0\n",
        "while(i[count]>0):\n",
        "    j.append(i[count])\n",
        "    count = count + 1\n",
        "print(j)"
      ],
      "metadata": {
        "id": "PUD3I6cIupl7",
        "colab": {
          "base_uri": "https://localhost:8080/"
        },
        "outputId": "4c885017-38e6-408c-9c94-21b3188a2f56"
      },
      "execution_count": 11,
      "outputs": [
        {
          "output_type": "stream",
          "name": "stdout",
          "text": [
            "[1, 2, 3, 4]\n"
          ]
        }
      ]
    },
    {
      "cell_type": "code",
      "source": [
        "for i in range(2, 5):\n",
        "    for j in range(1, 10):\n",
        "        print('%d*%d = %d' %(i, j, i*j))\n",
        "    print('--------')"
      ],
      "metadata": {
        "colab": {
          "base_uri": "https://localhost:8080/"
        },
        "id": "q55r1H-Q-MUs",
        "outputId": "34eaf565-ccaf-478c-f4cd-a4cd5bedb9cf"
      },
      "execution_count": 19,
      "outputs": [
        {
          "output_type": "stream",
          "name": "stdout",
          "text": [
            "2*1 = 2\n",
            "2*2 = 4\n",
            "2*3 = 6\n",
            "2*4 = 8\n",
            "2*5 = 10\n",
            "2*6 = 12\n",
            "2*7 = 14\n",
            "2*8 = 16\n",
            "2*9 = 18\n",
            "--------\n",
            "3*1 = 3\n",
            "3*2 = 6\n",
            "3*3 = 9\n",
            "3*4 = 12\n",
            "3*5 = 15\n",
            "3*6 = 18\n",
            "3*7 = 21\n",
            "3*8 = 24\n",
            "3*9 = 27\n",
            "--------\n",
            "4*1 = 4\n",
            "4*2 = 8\n",
            "4*3 = 12\n",
            "4*4 = 16\n",
            "4*5 = 20\n",
            "4*6 = 24\n",
            "4*7 = 28\n",
            "4*8 = 32\n",
            "4*9 = 36\n",
            "--------\n"
          ]
        }
      ]
    },
    {
      "cell_type": "code",
      "source": [
        "# 프로그램 동작에 관한 정보를 제공한다.\n",
        "print('원하는 단수를 입력하시고, 종료하시면 -1을 입력하세요.')\n",
        "\n",
        "# 의도적으로 무한루프를 활용한다.\n",
        "while(True):\n",
        "\n",
        "    # 사용자가 정수를 입력해준다고 가정한다.\n",
        "    i = int(input())\n",
        "\n",
        "    # -1 입력시 반복문을 탈출한다.\n",
        "    if i == -1:\n",
        "        break\n",
        "\n",
        "    # 출력\n",
        "    for j in range(1, 10):\n",
        "        print('%d x %d = %d' %(i, j, i*j))"
      ],
      "metadata": {
        "colab": {
          "base_uri": "https://localhost:8080/"
        },
        "id": "c5iH_4O3-5m9",
        "outputId": "5bd777b7-bd29-4045-b9e7-69bd4da5bf6e"
      },
      "execution_count": null,
      "outputs": [
        {
          "output_type": "stream",
          "name": "stdout",
          "text": [
            "원하는 단수를 입력하시고, 종료하시면 -1을 입력하세요.\n",
            "3\n",
            "3 x 1 = 3\n",
            "3 x 2 = 6\n",
            "3 x 3 = 9\n",
            "3 x 4 = 12\n",
            "3 x 5 = 15\n",
            "3 x 6 = 18\n",
            "3 x 7 = 21\n",
            "3 x 8 = 24\n",
            "3 x 9 = 27\n"
          ]
        }
      ]
    }
  ]
}