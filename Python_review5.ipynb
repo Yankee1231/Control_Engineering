{
  "nbformat": 4,
  "nbformat_minor": 0,
  "metadata": {
    "colab": {
      "provenance": [],
      "authorship_tag": "ABX9TyPSgDbzVmGI71ofbzwUsWQr",
      "include_colab_link": true
    },
    "kernelspec": {
      "name": "python3",
      "display_name": "Python 3"
    },
    "language_info": {
      "name": "python"
    }
  },
  "cells": [
    {
      "cell_type": "markdown",
      "metadata": {
        "id": "view-in-github",
        "colab_type": "text"
      },
      "source": [
        "<a href=\"https://colab.research.google.com/github/Yankee1231/Control_Engineering/blob/main/Python_review5.ipynb\" target=\"_parent\"><img src=\"https://colab.research.google.com/assets/colab-badge.svg\" alt=\"Open In Colab\"/></a>"
      ]
    },
    {
      "cell_type": "code",
      "execution_count": 3,
      "metadata": {
        "colab": {
          "base_uri": "https://localhost:8080/"
        },
        "id": "0iP1mHkmAYDi",
        "outputId": "d922bf36-3437-42ce-ed4e-41ac5f86c11c"
      },
      "outputs": [
        {
          "output_type": "stream",
          "name": "stdout",
          "text": [
            "[[1. 1.]\n",
            " [1. 1.]\n",
            " [1. 1.]]\n"
          ]
        }
      ],
      "source": [
        "# 3x2 형태의 1 행렬 선언\n",
        "# Input으로 Tuple을 받는 것에 주의!\n",
        "import numpy as np\n",
        "one_matrix = np.ones((3,2))\n",
        "print(one_matrix)"
      ]
    },
    {
      "cell_type": "code",
      "source": [
        "# 3x2 형태의 0행렬 선언\n",
        "zero_matrix = np.zeros((3,2))\n",
        "print(zero_matrix)"
      ],
      "metadata": {
        "colab": {
          "base_uri": "https://localhost:8080/"
        },
        "id": "4voHqvhcDHDn",
        "outputId": "a86e34e9-0c31-4e89-edff-932ea378d827"
      },
      "execution_count": 4,
      "outputs": [
        {
          "output_type": "stream",
          "name": "stdout",
          "text": [
            "[[0. 0.]\n",
            " [0. 0.]\n",
            " [0. 0.]]\n"
          ]
        }
      ]
    },
    {
      "cell_type": "code",
      "source": [
        "# 3x3 형태의 단위행렬 선언\n",
        "eye_matrix = np.eye(3)\n",
        "print(eye_matrix)"
      ],
      "metadata": {
        "colab": {
          "base_uri": "https://localhost:8080/"
        },
        "id": "-0O9NTgYDfZn",
        "outputId": "cbb20af6-c72b-4db0-a7c6-d20ed972c7c1"
      },
      "execution_count": 5,
      "outputs": [
        {
          "output_type": "stream",
          "name": "stdout",
          "text": [
            "[[1. 0. 0.]\n",
            " [0. 1. 0.]\n",
            " [0. 0. 1.]]\n"
          ]
        }
      ]
    },
    {
      "cell_type": "code",
      "source": [
        "# 리스트를 이용한 행렬 선언\n",
        "data_int = np.array([[1, 2, 3], [4, 5, 6], [7, 8, 9]])\n",
        "print(data_int)"
      ],
      "metadata": {
        "colab": {
          "base_uri": "https://localhost:8080/"
        },
        "id": "7yJTIhMXDsxN",
        "outputId": "62cc06ca-f146-43b9-9fa3-53497dabd0fe"
      },
      "execution_count": 6,
      "outputs": [
        {
          "output_type": "stream",
          "name": "stdout",
          "text": [
            "[[1 2 3]\n",
            " [4 5 6]\n",
            " [7 8 9]]\n"
          ]
        }
      ]
    },
    {
      "cell_type": "code",
      "source": [
        "# Matrix 형태 출력\n",
        "print(data_int.shape)"
      ],
      "metadata": {
        "colab": {
          "base_uri": "https://localhost:8080/"
        },
        "id": "fVoPQK2mEAgF",
        "outputId": "5e55d1bc-80e2-4a3c-8326-af085b5a38c8"
      },
      "execution_count": 7,
      "outputs": [
        {
          "output_type": "stream",
          "name": "stdout",
          "text": [
            "(3, 3)\n"
          ]
        }
      ]
    },
    {
      "cell_type": "code",
      "source": [
        "# 원소의 데이터형 출력\n",
        "print(data_int.dtype)"
      ],
      "metadata": {
        "colab": {
          "base_uri": "https://localhost:8080/"
        },
        "id": "5_bIAbjzEFEO",
        "outputId": "96449e92-132c-413f-bb70-71d8075d2a46"
      },
      "execution_count": 8,
      "outputs": [
        {
          "output_type": "stream",
          "name": "stdout",
          "text": [
            "int64\n"
          ]
        }
      ]
    },
    {
      "cell_type": "code",
      "source": [
        "# 데이터형 변\n",
        "data_float = data_int.astype(np.float64)\n",
        "print(data_float)\n",
        "print(data_float.dtype)"
      ],
      "metadata": {
        "colab": {
          "base_uri": "https://localhost:8080/"
        },
        "id": "w4yOV9zsEMuh",
        "outputId": "fec883eb-b507-4e58-fcc1-791cb4747665"
      },
      "execution_count": 9,
      "outputs": [
        {
          "output_type": "stream",
          "name": "stdout",
          "text": [
            "[[1. 2. 3.]\n",
            " [4. 5. 6.]\n",
            " [7. 8. 9.]]\n",
            "float64\n"
          ]
        }
      ]
    },
    {
      "cell_type": "code",
      "source": [
        "# 요소별 곱셈\n",
        "print(data_int * data_int)"
      ],
      "metadata": {
        "colab": {
          "base_uri": "https://localhost:8080/"
        },
        "id": "luNiOBz_EZRw",
        "outputId": "1c93c461-32c1-4858-d5c0-ce7089c9ba7c"
      },
      "execution_count": 10,
      "outputs": [
        {
          "output_type": "stream",
          "name": "stdout",
          "text": [
            "[[ 1  4  9]\n",
            " [16 25 36]\n",
            " [49 64 81]]\n"
          ]
        }
      ]
    },
    {
      "cell_type": "code",
      "source": [
        "# 상수 덧셈\n",
        "print(data_int * 3)"
      ],
      "metadata": {
        "colab": {
          "base_uri": "https://localhost:8080/"
        },
        "id": "bKeAbQZOExyX",
        "outputId": "6bbee7ac-7e70-444d-e894-aa5c973b2b7f"
      },
      "execution_count": 11,
      "outputs": [
        {
          "output_type": "stream",
          "name": "stdout",
          "text": [
            "[[ 3  6  9]\n",
            " [12 15 18]\n",
            " [21 24 27]]\n"
          ]
        }
      ]
    },
    {
      "cell_type": "code",
      "source": [
        "# 상수 나눗셈\n",
        "print(data_int / 3)"
      ],
      "metadata": {
        "colab": {
          "base_uri": "https://localhost:8080/"
        },
        "id": "9zGqH3oPFLZ_",
        "outputId": "639d8fc1-7140-4959-b571-be3cae7bfb88"
      },
      "execution_count": 12,
      "outputs": [
        {
          "output_type": "stream",
          "name": "stdout",
          "text": [
            "[[0.33333333 0.66666667 1.        ]\n",
            " [1.33333333 1.66666667 2.        ]\n",
            " [2.33333333 2.66666667 3.        ]]\n"
          ]
        }
      ]
    },
    {
      "cell_type": "code",
      "source": [
        "x = np.array([[1, 2, 3], [4, 5, 6]])\n",
        "y = np.array([[1, 0, -1], [1, 1, 0]])\n",
        "print(x)\n",
        "print(y)\n",
        "print(y.T)"
      ],
      "metadata": {
        "colab": {
          "base_uri": "https://localhost:8080/"
        },
        "id": "BjIK6zBZFZQC",
        "outputId": "345d803b-f12b-4aa9-8d4c-60b61c5aaacc"
      },
      "execution_count": 13,
      "outputs": [
        {
          "output_type": "stream",
          "name": "stdout",
          "text": [
            "[[1 2 3]\n",
            " [4 5 6]]\n",
            "[[ 1  0 -1]\n",
            " [ 1  1  0]]\n",
            "[[ 1  1]\n",
            " [ 0  1]\n",
            " [-1  0]]\n"
          ]
        }
      ]
    },
    {
      "cell_type": "code",
      "source": [
        "# 행렬연산 행렬곱\n",
        "print(x)\n",
        "print(y)\n",
        "print(y.T)"
      ],
      "metadata": {
        "id": "zuxAHn-oFtRz",
        "colab": {
          "base_uri": "https://localhost:8080/"
        },
        "outputId": "13e03019-496a-4ac3-d566-4af1addbd60d"
      },
      "execution_count": 14,
      "outputs": [
        {
          "output_type": "stream",
          "name": "stdout",
          "text": [
            "[[1 2 3]\n",
            " [4 5 6]]\n",
            "[[ 1  0 -1]\n",
            " [ 1  1  0]]\n",
            "[[ 1  1]\n",
            " [ 0  1]\n",
            " [-1  0]]\n"
          ]
        }
      ]
    },
    {
      "cell_type": "code",
      "source": [
        "print(np.dot(x,y.T))"
      ],
      "metadata": {
        "colab": {
          "base_uri": "https://localhost:8080/"
        },
        "id": "-eErp3Uwzzew",
        "outputId": "eaba3b8a-6d2c-44bb-e22d-8f72391c25a1"
      },
      "execution_count": 17,
      "outputs": [
        {
          "output_type": "stream",
          "name": "stdout",
          "text": [
            "[[-2  3]\n",
            " [-2  9]]\n"
          ]
        }
      ]
    },
    {
      "cell_type": "code",
      "source": [
        "# 연속 정수로 array 생성\n",
        "data_range = np.arange(10)\n",
        "print(data_range)"
      ],
      "metadata": {
        "colab": {
          "base_uri": "https://localhost:8080/"
        },
        "id": "MRr9hJQ1031O",
        "outputId": "5e98559f-33d9-46dd-c747-4a6036d1545c"
      },
      "execution_count": 19,
      "outputs": [
        {
          "output_type": "stream",
          "name": "stdout",
          "text": [
            "[0 1 2 3 4 5 6 7 8 9]\n"
          ]
        }
      ]
    }
  ]
}