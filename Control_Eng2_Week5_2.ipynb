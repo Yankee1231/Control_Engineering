{
  "nbformat": 4,
  "nbformat_minor": 0,
  "metadata": {
    "colab": {
      "provenance": [],
      "authorship_tag": "ABX9TyOMjsJU5qqeWKU8gTtkT9Ph",
      "include_colab_link": true
    },
    "kernelspec": {
      "name": "python3",
      "display_name": "Python 3"
    },
    "language_info": {
      "name": "python"
    }
  },
  "cells": [
    {
      "cell_type": "markdown",
      "metadata": {
        "id": "view-in-github",
        "colab_type": "text"
      },
      "source": [
        "<a href=\"https://colab.research.google.com/github/Yankee1231/Control_Engineering/blob/main/Control_Eng2_Week5_2.ipynb\" target=\"_parent\"><img src=\"https://colab.research.google.com/assets/colab-badge.svg\" alt=\"Open In Colab\"/></a>"
      ]
    },
    {
      "cell_type": "markdown",
      "source": [
        "# 제어공학2 5주차 - Note 2\n",
        "> Transfer fuction"
      ],
      "metadata": {
        "id": "pmocZhgoMOVc"
      }
    },
    {
      "cell_type": "markdown",
      "source": [
        "### control library 설치"
      ],
      "metadata": {
        "id": "5dDnzGbKMpKr"
      }
    },
    {
      "cell_type": "code",
      "source": [
        "!pip install control"
      ],
      "metadata": {
        "colab": {
          "base_uri": "https://localhost:8080/"
        },
        "id": "slfmXxcqMtYI",
        "outputId": "6a8d9e20-32f1-4a8e-d2f5-0612e25934c2"
      },
      "execution_count": 2,
      "outputs": [
        {
          "output_type": "stream",
          "name": "stdout",
          "text": [
            "Collecting control\n",
            "  Downloading control-0.10.0-py3-none-any.whl (513 kB)\n",
            "\u001b[2K     \u001b[90m━━━━━━━━━━━━━━━━━━━━━━━━━━━━━━━━━━━━━━━━\u001b[0m \u001b[32m513.9/513.9 kB\u001b[0m \u001b[31m2.6 MB/s\u001b[0m eta \u001b[36m0:00:00\u001b[0m\n",
            "\u001b[?25hRequirement already satisfied: numpy>=1.23 in /usr/local/lib/python3.10/dist-packages (from control) (1.25.2)\n",
            "Requirement already satisfied: scipy>=1.8 in /usr/local/lib/python3.10/dist-packages (from control) (1.11.4)\n",
            "Requirement already satisfied: matplotlib>=3.6 in /usr/local/lib/python3.10/dist-packages (from control) (3.7.1)\n",
            "Requirement already satisfied: contourpy>=1.0.1 in /usr/local/lib/python3.10/dist-packages (from matplotlib>=3.6->control) (1.2.0)\n",
            "Requirement already satisfied: cycler>=0.10 in /usr/local/lib/python3.10/dist-packages (from matplotlib>=3.6->control) (0.12.1)\n",
            "Requirement already satisfied: fonttools>=4.22.0 in /usr/local/lib/python3.10/dist-packages (from matplotlib>=3.6->control) (4.50.0)\n",
            "Requirement already satisfied: kiwisolver>=1.0.1 in /usr/local/lib/python3.10/dist-packages (from matplotlib>=3.6->control) (1.4.5)\n",
            "Requirement already satisfied: packaging>=20.0 in /usr/local/lib/python3.10/dist-packages (from matplotlib>=3.6->control) (24.0)\n",
            "Requirement already satisfied: pillow>=6.2.0 in /usr/local/lib/python3.10/dist-packages (from matplotlib>=3.6->control) (9.4.0)\n",
            "Requirement already satisfied: pyparsing>=2.3.1 in /usr/local/lib/python3.10/dist-packages (from matplotlib>=3.6->control) (3.1.2)\n",
            "Requirement already satisfied: python-dateutil>=2.7 in /usr/local/lib/python3.10/dist-packages (from matplotlib>=3.6->control) (2.8.2)\n",
            "Requirement already satisfied: six>=1.5 in /usr/local/lib/python3.10/dist-packages (from python-dateutil>=2.7->matplotlib>=3.6->control) (1.16.0)\n",
            "Installing collected packages: control\n",
            "Successfully installed control-0.10.0\n"
          ]
        }
      ]
    },
    {
      "cell_type": "markdown",
      "source": [
        "### numpy, control, matpIotlib import"
      ],
      "metadata": {
        "id": "59lmgLHoMvd2"
      }
    },
    {
      "cell_type": "code",
      "source": [
        "import numpy as np\n",
        "import control as ctl\n",
        "import matplotlib.pyplot as plt"
      ],
      "metadata": {
        "id": "LcJgdYQ6NBbO"
      },
      "execution_count": 4,
      "outputs": []
    },
    {
      "cell_type": "markdown",
      "source": [
        "### 간단한 transfer function을 변수 H에 입력해보기\n",
        "> Transfer function은 기본저긍로 symbol 형태이다."
      ],
      "metadata": {
        "id": "5T6BggrhNJWC"
      }
    },
    {
      "cell_type": "code",
      "source": [
        "num = np.array([2])\n",
        "den = np.array([5, 1])\n",
        "H = ctl.tf(num, den)\n",
        "H"
      ],
      "metadata": {
        "colab": {
          "base_uri": "https://localhost:8080/",
          "height": 39
        },
        "id": "-3y11t8xNiky",
        "outputId": "5262868a-48cc-470d-f083-d1f6ee60196f"
      },
      "execution_count": 7,
      "outputs": [
        {
          "output_type": "execute_result",
          "data": {
            "text/plain": [
              "TransferFunction(array([2]), array([5, 1]))"
            ],
            "text/latex": "$$\\frac{2}{5 s + 1}$$"
          },
          "metadata": {},
          "execution_count": 7
        }
      ]
    },
    {
      "cell_type": "markdown",
      "source": [
        "### 두개의 transfer function series 연결(곱셈)"
      ],
      "metadata": {
        "id": "5We5fEggNxUr"
      }
    },
    {
      "cell_type": "code",
      "source": [
        "num1 = np.array([2])\n",
        "den1 = np.array([1, 0])\n",
        "num2 = np.array([3])\n",
        "den2 = np.array([4, 1])\n",
        "H1 = ctl.tf(num1, den1)\n",
        "H2 = ctl.tf(num2, den2)\n",
        "Hs = ctl.series(H1, H2)\n",
        "Hs"
      ],
      "metadata": {
        "colab": {
          "base_uri": "https://localhost:8080/",
          "height": 39
        },
        "id": "cnEpwR2ON8Hp",
        "outputId": "68370bff-2ae7-47b2-f19e-39222b76bd1e"
      },
      "execution_count": 13,
      "outputs": [
        {
          "output_type": "execute_result",
          "data": {
            "text/plain": [
              "TransferFunction(array([6]), array([4, 1, 0]))"
            ],
            "text/latex": "$$\\frac{6}{4 s^2 + s}$$"
          },
          "metadata": {},
          "execution_count": 13
        }
      ]
    },
    {
      "cell_type": "code",
      "source": [
        "Hs = H1*H2\n",
        "Hs"
      ],
      "metadata": {
        "colab": {
          "base_uri": "https://localhost:8080/",
          "height": 39
        },
        "id": "QWwSB28oPBGg",
        "outputId": "e5a2ccbe-6630-4237-eb6e-e593d94c507d"
      },
      "execution_count": 14,
      "outputs": [
        {
          "output_type": "execute_result",
          "data": {
            "text/plain": [
              "TransferFunction(array([6]), array([4, 1, 0]))"
            ],
            "text/latex": "$$\\frac{6}{4 s^2 + s}$$"
          },
          "metadata": {},
          "execution_count": 14
        }
      ]
    },
    {
      "cell_type": "markdown",
      "source": [
        "### 두 개의 transfer function paralleㅣ 연결(덧셈)\n"
      ],
      "metadata": {
        "id": "gI-KLmk3OVGw"
      }
    },
    {
      "cell_type": "code",
      "source": [
        "Hp = ctl.parallel(H1, H2)\n",
        "Hp"
      ],
      "metadata": {
        "colab": {
          "base_uri": "https://localhost:8080/",
          "height": 39
        },
        "id": "lMgSbFHfOkAz",
        "outputId": "1a5feb6f-b6da-4670-94a0-8ba40d6e03bb"
      },
      "execution_count": 15,
      "outputs": [
        {
          "output_type": "execute_result",
          "data": {
            "text/plain": [
              "TransferFunction(array([11,  2]), array([4, 1, 0]))"
            ],
            "text/latex": "$$\\frac{11 s + 2}{4 s^2 + s}$$"
          },
          "metadata": {},
          "execution_count": 15
        }
      ]
    },
    {
      "cell_type": "code",
      "source": [
        "Hp = H1 + H2\n",
        "Hp"
      ],
      "metadata": {
        "colab": {
          "base_uri": "https://localhost:8080/",
          "height": 39
        },
        "id": "oRDrK7E8PELS",
        "outputId": "28e9113b-105a-429b-deaf-121a12531d47"
      },
      "execution_count": 16,
      "outputs": [
        {
          "output_type": "execute_result",
          "data": {
            "text/plain": [
              "TransferFunction(array([11,  2]), array([4, 1, 0]))"
            ],
            "text/latex": "$$\\frac{11 s + 2}{4 s^2 + s}$$"
          },
          "metadata": {},
          "execution_count": 16
        }
      ]
    },
    {
      "cell_type": "markdown",
      "source": [
        "### Transfer function에서 pole과 zero 구하기\n",
        "> plot=True로 하거나, 입력하지 않으면 그래프가 그려진다"
      ],
      "metadata": {
        "id": "kYVbD54uOiHU"
      }
    },
    {
      "cell_type": "code",
      "source": [
        "(p, z) = ctl.pzmap(Hp, plot=False)\n",
        "p, z"
      ],
      "metadata": {
        "colab": {
          "base_uri": "https://localhost:8080/"
        },
        "id": "l8eX_ybYOwmz",
        "outputId": "ea8c9f22-6d1e-4c3a-9ffe-d2f5deeb8bda"
      },
      "execution_count": 18,
      "outputs": [
        {
          "output_type": "execute_result",
          "data": {
            "text/plain": [
              "(array([-0.25+0.j,  0.  +0.j]), array([-0.18181818+0.j]))"
            ]
          },
          "metadata": {},
          "execution_count": 18
        }
      ]
    },
    {
      "cell_type": "code",
      "source": [
        "##(p, z) = ctl.pzmap(Hp)"
      ],
      "metadata": {
        "id": "jTjevAFvPM8J"
      },
      "execution_count": 22,
      "outputs": []
    },
    {
      "cell_type": "markdown",
      "source": [
        "### 피드백 연결\n",
        "> (Unity feedback인 경우 feedback gain이 1이다)\n"
      ],
      "metadata": {
        "id": "sP7wJw0zPwHB"
      }
    },
    {
      "cell_type": "code",
      "source": [
        "num = np.array([2])\n",
        "den = np.array([1, 0])\n",
        "L = ctl.tf(num, den)\n",
        "H = ctl.feedback(L, 1)\n",
        "H"
      ],
      "metadata": {
        "colab": {
          "base_uri": "https://localhost:8080/",
          "height": 39
        },
        "id": "roJL-DHTP6JK",
        "outputId": "38e1328b-b290-4122-eee2-dfe6fca17c02"
      },
      "execution_count": 24,
      "outputs": [
        {
          "output_type": "execute_result",
          "data": {
            "text/plain": [
              "TransferFunction(array([2]), array([1, 2]))"
            ],
            "text/latex": "$$\\frac{2}{s + 2}$$"
          },
          "metadata": {},
          "execution_count": 24
        }
      ]
    },
    {
      "cell_type": "markdown",
      "source": [
        "### Transfer function으로부터 수식의 numerator, denominator 상수 리스트 받아오기"
      ],
      "metadata": {
        "id": "pM78P35uQRuQ"
      }
    },
    {
      "cell_type": "code",
      "source": [
        "num_, den_ = ctl.tfdata(H)\n",
        "num_, den_"
      ],
      "metadata": {
        "colab": {
          "base_uri": "https://localhost:8080/"
        },
        "id": "4Z3ThOf3QZSU",
        "outputId": "84cf9a6c-9536-4b59-ac67-e7a17f2a7c2f"
      },
      "execution_count": 26,
      "outputs": [
        {
          "output_type": "execute_result",
          "data": {
            "text/plain": [
              "([[array([2])]], [[array([1, 2])]])"
            ]
          },
          "metadata": {},
          "execution_count": 26
        }
      ]
    },
    {
      "cell_type": "markdown",
      "source": [
        "### $2^{nd}$ -order transfer function을 G에 입"
      ],
      "metadata": {
        "id": "CEu_sAZsQibi"
      }
    },
    {
      "cell_type": "code",
      "source": [
        "G = ctl.tf([3], [4, 1, 1])\n",
        "G"
      ],
      "metadata": {
        "colab": {
          "base_uri": "https://localhost:8080/",
          "height": 39
        },
        "id": "0leRqVCMQ5w4",
        "outputId": "d68e3131-5fc0-4686-d70e-c907671d4eb3"
      },
      "execution_count": 29,
      "outputs": [
        {
          "output_type": "execute_result",
          "data": {
            "text/plain": [
              "TransferFunction(array([3]), array([4, 1, 1]))"
            ],
            "text/latex": "$$\\frac{3}{4 s^2 + s + 1}$$"
          },
          "metadata": {},
          "execution_count": 29
        }
      ]
    },
    {
      "cell_type": "markdown",
      "source": [
        "### Step response 확인하기"
      ],
      "metadata": {
        "id": "nNWKn_KrQ-b_"
      }
    },
    {
      "cell_type": "code",
      "source": [
        "t, y = ctl.step_response(G)\n",
        "plt.plot(t, y)\n",
        "plt.xlabel('Time')\n",
        "plt.title('Response of a Secnod Order System')"
      ],
      "metadata": {
        "colab": {
          "base_uri": "https://localhost:8080/",
          "height": 490
        },
        "id": "lh46RGs6RCz4",
        "outputId": "ec1c84d2-3580-4335-b310-081951bcb95b"
      },
      "execution_count": 31,
      "outputs": [
        {
          "output_type": "execute_result",
          "data": {
            "text/plain": [
              "Text(0.5, 1.0, 'Response of a Secnod Order System')"
            ]
          },
          "metadata": {},
          "execution_count": 31
        },
        {
          "output_type": "display_data",
          "data": {
            "text/plain": [
              "<Figure size 640x480 with 1 Axes>"
            ],
            "image/png": "[encoded data removed]"
          },
          "metadata": {}
        }
      ]
    }
  ]
}