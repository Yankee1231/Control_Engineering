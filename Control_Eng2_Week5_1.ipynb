{
  "nbformat": 4,
  "nbformat_minor": 0,
  "metadata": {
    "colab": {
      "provenance": [],
      "authorship_tag": "ABX9TyN438eDJqKZqNe6rC50kLdr",
      "include_colab_link": true
    },
    "kernelspec": {
      "name": "python3",
      "display_name": "Python 3"
    },
    "language_info": {
      "name": "python"
    }
  },
  "cells": [
    {
      "cell_type": "markdown",
      "metadata": {
        "id": "view-in-github",
        "colab_type": "text"
      },
      "source": [
        "<a href=\"https://colab.research.google.com/github/Yankee1231/Control_Engineering/blob/main/Control_Eng2_Week5_1.ipynb\" target=\"_parent\"><img src=\"https://colab.research.google.com/assets/colab-badge.svg\" alt=\"Open In Colab\"/></a>"
      ]
    },
    {
      "cell_type": "markdown",
      "source": [
        "# 제어공학 2 5주 - Note 1\n",
        "> Symbolic calculation and Laplace transform with python\n",
        "\n"
      ],
      "metadata": {
        "id": "pOEsv8Wm-LWG"
      }
    },
    {
      "cell_type": "markdown",
      "source": [
        "## Symbolic Calulation"
      ],
      "metadata": {
        "id": "x9ZiPMalCcga"
      }
    },
    {
      "cell_type": "markdown",
      "source": [
        "### sympy library 설치"
      ],
      "metadata": {
        "id": "EJITdEsaB_Xp"
      }
    },
    {
      "cell_type": "code",
      "source": [
        "!pip install sympy"
      ],
      "metadata": {
        "colab": {
          "base_uri": "https://localhost:8080/"
        },
        "id": "9XN6FZeuCTYN",
        "outputId": "af85ba8b-dbb7-4e1a-eab2-e50b99950ec9"
      },
      "execution_count": 4,
      "outputs": [
        {
          "output_type": "stream",
          "name": "stdout",
          "text": [
            "Requirement already satisfied: sympy in /usr/local/lib/python3.10/dist-packages (1.12)\n",
            "Requirement already satisfied: mpmath>=0.19 in /usr/local/lib/python3.10/dist-packages (from sympy) (1.3.0)\n"
          ]
        }
      ]
    },
    {
      "cell_type": "markdown",
      "source": [
        "### sympy library import\n"
      ],
      "metadata": {
        "id": "q_dHrMYmA77Y"
      }
    },
    {
      "cell_type": "code",
      "source": [
        "import sympy as sym"
      ],
      "metadata": {
        "id": "3MH7p2coBHC-"
      },
      "execution_count": 5,
      "outputs": []
    },
    {
      "cell_type": "markdown",
      "source": [
        "### 수식이 latex 포멧으로 출력되도록 init_printing 함수 호출"
      ],
      "metadata": {
        "id": "W8YfnT47BJM5"
      }
    },
    {
      "cell_type": "code",
      "source": [
        "sym.init_printing(use_latex='mathjax')"
      ],
      "metadata": {
        "id": "rsLxQNmfBQ-s"
      },
      "execution_count": 6,
      "outputs": []
    },
    {
      "cell_type": "markdown",
      "source": [
        "### 변수를 symbol로 선언하고, 다양식 표현하기\n"
      ],
      "metadata": {
        "id": "xx2eK4OOBaSb"
      }
    },
    {
      "cell_type": "code",
      "source": [
        "x, y, z = sym.symbols('x y z')\n",
        "( 5*x**3 - x**2 + 3*x - 1 ) + ( -x**3 + 2*x**2 + 5 )"
      ],
      "metadata": {
        "colab": {
          "base_uri": "https://localhost:8080/",
          "height": 39
        },
        "id": "sktg6IBbBf6H",
        "outputId": "f9006048-22d6-4b78-9cf3-f7b72acc4f39"
      },
      "execution_count": 7,
      "outputs": [
        {
          "output_type": "execute_result",
          "data": {
            "text/plain": [
              "   3    2          \n",
              "4⋅x  + x  + 3⋅x + 4"
            ],
            "text/latex": "$\\displaystyle 4 x^{3} + x^{2} + 3 x + 4$"
          },
          "metadata": {},
          "execution_count": 7
        }
      ]
    },
    {
      "cell_type": "markdown",
      "source": [
        "### 다항식을 변수에 저장하기"
      ],
      "metadata": {
        "id": "jamrjjzSDOnq"
      }
    },
    {
      "cell_type": "code",
      "source": [
        "A = -3*x*y + x**2 + 2*y**2 + x\n",
        "B = (x**2 + x - 2 ) * ( 3*x - 1 )\n",
        "A, B"
      ],
      "metadata": {
        "colab": {
          "base_uri": "https://localhost:8080/",
          "height": 39
        },
        "id": "6LL-qCZWDRp-",
        "outputId": "b82151bc-4fa8-47b0-ca2c-d61a07fd1f6f"
      },
      "execution_count": 8,
      "outputs": [
        {
          "output_type": "execute_result",
          "data": {
            "text/plain": [
              "⎛ 2                  2            ⎛ 2        ⎞⎞\n",
              "⎝x  - 3⋅x⋅y + x + 2⋅y , (3⋅x - 1)⋅⎝x  + x - 2⎠⎠"
            ],
            "text/latex": "$\\displaystyle \\left( x^{2} - 3 x y + x + 2 y^{2}, \\  \\left(3 x - 1\\right) \\left(x^{2} + x - 2\\right)\\right)$"
          },
          "metadata": {},
          "execution_count": 8
        }
      ]
    },
    {
      "cell_type": "markdown",
      "source": [
        "### 다항식을 symbol 'x'를 기준으로 정리하기"
      ],
      "metadata": {
        "id": "RNG6aT2aDfkO"
      }
    },
    {
      "cell_type": "code",
      "source": [
        "sym.collect( A, x )"
      ],
      "metadata": {
        "colab": {
          "base_uri": "https://localhost:8080/",
          "height": 39
        },
        "id": "nrI0Kx7lDjpt",
        "outputId": "95735046-3ab3-468f-cc34-b6d243714d44"
      },
      "execution_count": 9,
      "outputs": [
        {
          "output_type": "execute_result",
          "data": {
            "text/plain": [
              " 2                    2\n",
              "x  + x⋅(1 - 3⋅y) + 2⋅y "
            ],
            "text/latex": "$\\displaystyle x^{2} + x \\left(1 - 3 y\\right) + 2 y^{2}$"
          },
          "metadata": {},
          "execution_count": 9
        }
      ]
    },
    {
      "cell_type": "markdown",
      "source": [
        "### 다항식을 전개하기"
      ],
      "metadata": {
        "id": "y2C98Ga_DshP"
      }
    },
    {
      "cell_type": "code",
      "source": [
        "sym.expand(B)"
      ],
      "metadata": {
        "colab": {
          "base_uri": "https://localhost:8080/",
          "height": 39
        },
        "id": "c19eoLUxDwiB",
        "outputId": "e6a6fa9f-5a80-4f16-cad1-dcca24050463"
      },
      "execution_count": 10,
      "outputs": [
        {
          "output_type": "execute_result",
          "data": {
            "text/plain": [
              "   3      2          \n",
              "3⋅x  + 2⋅x  - 7⋅x + 2"
            ],
            "text/latex": "$\\displaystyle 3 x^{3} + 2 x^{2} - 7 x + 2$"
          },
          "metadata": {},
          "execution_count": 10
        }
      ]
    },
    {
      "cell_type": "markdown",
      "source": [
        "### 인수분해가 가능한 다항식을 C에 입력하기"
      ],
      "metadata": {
        "id": "MyIaVlA0ELca"
      }
    },
    {
      "cell_type": "code",
      "source": [
        "C = 2*x**2 + 5*x*y + 3*y**2 + 3*y**2 + 3*x +5*y -2\n",
        "C"
      ],
      "metadata": {
        "colab": {
          "base_uri": "https://localhost:8080/",
          "height": 39
        },
        "id": "Z_RSerFUEPPA",
        "outputId": "17b265e5-73d6-4c3f-df7a-17e0aac9871b"
      },
      "execution_count": 11,
      "outputs": [
        {
          "output_type": "execute_result",
          "data": {
            "text/plain": [
              "   2                    2          \n",
              "2⋅x  + 5⋅x⋅y + 3⋅x + 6⋅y  + 5⋅y - 2"
            ],
            "text/latex": "$\\displaystyle 2 x^{2} + 5 x y + 3 x + 6 y^{2} + 5 y - 2$"
          },
          "metadata": {},
          "execution_count": 11
        }
      ]
    },
    {
      "cell_type": "markdown",
      "source": [
        "### 다항식을 C를 인수분해하기"
      ],
      "metadata": {
        "id": "iz5swiVgD5sF"
      }
    },
    {
      "cell_type": "code",
      "source": [
        "sym.factor(C)"
      ],
      "metadata": {
        "colab": {
          "base_uri": "https://localhost:8080/",
          "height": 39
        },
        "id": "uH55hibgD_K6",
        "outputId": "85263919-5309-4810-909f-67ca58112fe8"
      },
      "execution_count": 12,
      "outputs": [
        {
          "output_type": "execute_result",
          "data": {
            "text/plain": [
              "   2                    2          \n",
              "2⋅x  + 5⋅x⋅y + 3⋅x + 6⋅y  + 5⋅y - 2"
            ],
            "text/latex": "$\\displaystyle 2 x^{2} + 5 x y + 3 x + 6 y^{2} + 5 y - 2$"
          },
          "metadata": {},
          "execution_count": 12
        }
      ]
    },
    {
      "cell_type": "markdown",
      "source": [
        "### 분수 형태의 다항식을 D에 입력하기"
      ],
      "metadata": {
        "id": "0nZUhsnWEd7l"
      }
    },
    {
      "cell_type": "code",
      "source": [
        "D = ( x**2 - 2*x + 1 ) / ( x**2 - 3*x + 2 )\n",
        "D"
      ],
      "metadata": {
        "colab": {
          "base_uri": "https://localhost:8080/",
          "height": 55
        },
        "id": "2zdWN0tBEjRm",
        "outputId": "67158c0f-ad3a-448e-a27b-928cf9e9eb1c"
      },
      "execution_count": 13,
      "outputs": [
        {
          "output_type": "execute_result",
          "data": {
            "text/plain": [
              " 2          \n",
              "x  - 2⋅x + 1\n",
              "────────────\n",
              " 2          \n",
              "x  - 3⋅x + 2"
            ],
            "text/latex": "$\\displaystyle \\frac{x^{2} - 2 x + 1}{x^{2} - 3 x + 2}$"
          },
          "metadata": {},
          "execution_count": 13
        }
      ]
    },
    {
      "cell_type": "markdown",
      "source": [
        "### 분모 분자를 인수분해 후 소거 가능한 항 소거하기"
      ],
      "metadata": {
        "id": "oPlmUvx1Es5n"
      }
    },
    {
      "cell_type": "code",
      "source": [
        "sym.cancel(D)"
      ],
      "metadata": {
        "colab": {
          "base_uri": "https://localhost:8080/",
          "height": 52
        },
        "id": "YjvCZI4KExFA",
        "outputId": "2080d6d1-f2b0-467a-b697-40107cb1ccc6"
      },
      "execution_count": 14,
      "outputs": [
        {
          "output_type": "execute_result",
          "data": {
            "text/plain": [
              "x - 1\n",
              "─────\n",
              "x - 2"
            ],
            "text/latex": "$\\displaystyle \\frac{x - 1}{x - 2}$"
          },
          "metadata": {},
          "execution_count": 14
        }
      ]
    },
    {
      "cell_type": "markdown",
      "source": [
        "### 분수의 뎃셈 형태의 다항식을 E에 입력하기"
      ],
      "metadata": {
        "id": "Z6oZCwLYEzMs"
      }
    },
    {
      "cell_type": "code",
      "source": [
        "E = 1 / (x-1) + 2/(x+2)\n",
        "E"
      ],
      "metadata": {
        "colab": {
          "base_uri": "https://localhost:8080/",
          "height": 52
        },
        "id": "OG8KRdFSE8hu",
        "outputId": "89d09253-3bda-473e-aea0-bc3a4172acba"
      },
      "execution_count": 15,
      "outputs": [
        {
          "output_type": "execute_result",
          "data": {
            "text/plain": [
              "  2       1  \n",
              "───── + ─────\n",
              "x + 2   x - 1"
            ],
            "text/latex": "$\\displaystyle \\frac{2}{x + 2} + \\frac{1}{x - 1}$"
          },
          "metadata": {},
          "execution_count": 15
        }
      ]
    },
    {
      "cell_type": "markdown",
      "source": [
        "### 통분 후 소거 가능한 항 소거하기"
      ],
      "metadata": {
        "id": "LmDAB0VGFGL9"
      }
    },
    {
      "cell_type": "code",
      "source": [
        "sym.cancel(E)"
      ],
      "metadata": {
        "colab": {
          "base_uri": "https://localhost:8080/",
          "height": 52
        },
        "id": "7sHFNadnFNYM",
        "outputId": "cbb1073d-bc6a-4f9c-b7f2-e22bfeb3d062"
      },
      "execution_count": 16,
      "outputs": [
        {
          "output_type": "execute_result",
          "data": {
            "text/plain": [
              "   3⋅x    \n",
              "──────────\n",
              " 2        \n",
              "x  + x - 2"
            ],
            "text/latex": "$\\displaystyle \\frac{3 x}{x^{2} + x - 2}$"
          },
          "metadata": {},
          "execution_count": 16
        }
      ]
    },
    {
      "cell_type": "markdown",
      "source": [
        "### 문자 언더바'-'>> 직전 출력을 의미"
      ],
      "metadata": {
        "id": "TKPHtr4UFQIV"
      }
    },
    {
      "cell_type": "code",
      "source": [
        "sym.factor(_)"
      ],
      "metadata": {
        "colab": {
          "base_uri": "https://localhost:8080/",
          "height": 55
        },
        "id": "60syzymfFgf8",
        "outputId": "21e58fc7-1a9b-4ddf-f23b-315fec1b1f63"
      },
      "execution_count": 17,
      "outputs": [
        {
          "output_type": "execute_result",
          "data": {
            "text/plain": [
              "      3⋅x      \n",
              "───────────────\n",
              "(x - 1)⋅(x + 2)"
            ],
            "text/latex": "$\\displaystyle \\frac{3 x}{\\left(x - 1\\right) \\left(x + 2\\right)}$"
          },
          "metadata": {},
          "execution_count": 17
        }
      ]
    },
    {
      "cell_type": "markdown",
      "source": [
        "### 매우 복잡한 형태의 다항식을 F에 입력하기"
      ],
      "metadata": {
        "id": "J3DB8faUFtcs"
      }
    },
    {
      "cell_type": "code",
      "source": [
        "F = (x-1+1/(x-1))/(x-1-1/(x-1))\n",
        "F"
      ],
      "metadata": {
        "colab": {
          "base_uri": "https://localhost:8080/",
          "height": 64
        },
        "id": "OF-VdEyCFxlj",
        "outputId": "9c27fc20-c7d5-4e16-f8c6-50c3225221f2"
      },
      "execution_count": 18,
      "outputs": [
        {
          "output_type": "execute_result",
          "data": {
            "text/plain": [
              "          1  \n",
              "x - 1 + ─────\n",
              "        x - 1\n",
              "─────────────\n",
              "          1  \n",
              "x - 1 - ─────\n",
              "        x - 1"
            ],
            "text/latex": "$\\displaystyle \\frac{x - 1 + \\frac{1}{x - 1}}{x - 1 - \\frac{1}{x - 1}}$"
          },
          "metadata": {},
          "execution_count": 18
        }
      ]
    },
    {
      "cell_type": "markdown",
      "source": [
        "### 복잡한 다항식을 가능한 한 간단하게 정리하기\n"
      ],
      "metadata": {
        "id": "ZMIw71KxF5LP"
      }
    },
    {
      "cell_type": "code",
      "source": [
        "sym.simplify(F)"
      ],
      "metadata": {
        "colab": {
          "base_uri": "https://localhost:8080/",
          "height": 58
        },
        "id": "Kr22dnUpF-i_",
        "outputId": "d19621f0-bbe2-44a3-bd58-dcc074a82f1d"
      },
      "execution_count": 19,
      "outputs": [
        {
          "output_type": "execute_result",
          "data": {
            "text/plain": [
              " 2          \n",
              "x  - 2⋅x + 2\n",
              "────────────\n",
              " x⋅(x - 2)  "
            ],
            "text/latex": "$\\displaystyle \\frac{x^{2} - 2 x + 2}{x \\left(x - 2\\right)}$"
          },
          "metadata": {},
          "execution_count": 19
        }
      ]
    },
    {
      "cell_type": "markdown",
      "source": [
        " ## Laplace Transform"
      ],
      "metadata": {
        "id": "-bwDIlZhGCTr"
      }
    },
    {
      "cell_type": "markdown",
      "source": [
        "### Laplace transform에서 활용할 변수 t, s를 symbol로 선언하고 함수 f정의하기"
      ],
      "metadata": {
        "id": "06RqGRcRGJYn"
      }
    },
    {
      "cell_type": "code",
      "source": [
        "t, s = sym.symbols('t, s')\n",
        "a = sym.symbols('a', real = True, positive =True)\n",
        "f = sym.exp(-a*t)\n",
        "f"
      ],
      "metadata": {
        "colab": {
          "base_uri": "https://localhost:8080/",
          "height": 39
        },
        "id": "nj5Tba9rGSHf",
        "outputId": "aac41fd4-0b94-4bcc-d32d-9cdfb617ca50"
      },
      "execution_count": 20,
      "outputs": [
        {
          "output_type": "execute_result",
          "data": {
            "text/plain": [
              " -a⋅t\n",
              "ℯ    "
            ],
            "text/latex": "$\\displaystyle e^{- a t}$"
          },
          "metadata": {},
          "execution_count": 20
        }
      ]
    },
    {
      "cell_type": "markdown",
      "source": [
        "### Laplace transform 하기"
      ],
      "metadata": {
        "id": "wks_VrDhG3pS"
      }
    },
    {
      "cell_type": "code",
      "source": [
        "F = sym.laplace_transform(f, t, s)\n",
        "F"
      ],
      "metadata": {
        "colab": {
          "base_uri": "https://localhost:8080/",
          "height": 58
        },
        "id": "I3jtkTYQG7QH",
        "outputId": "8fd455ee-acbb-4c0c-d86a-253413cabd6b"
      },
      "execution_count": 21,
      "outputs": [
        {
          "output_type": "execute_result",
          "data": {
            "text/plain": [
              "⎛  1            ⎞\n",
              "⎜─────, -a, True⎟\n",
              "⎝a + s          ⎠"
            ],
            "text/latex": "$\\displaystyle \\left( \\frac{1}{a + s}, \\  - a, \\  \\text{True}\\right)$"
          },
          "metadata": {},
          "execution_count": 21
        }
      ]
    },
    {
      "cell_type": "markdown",
      "source": [
        "### Laplace transform이 가능한 조건 출력을 생략하기"
      ],
      "metadata": {
        "id": "EEO9_b0CHEkQ"
      }
    },
    {
      "cell_type": "code",
      "source": [
        "F = sym.laplace_transform(f, t, s, noconds=True)\n",
        "F"
      ],
      "metadata": {
        "colab": {
          "base_uri": "https://localhost:8080/",
          "height": 52
        },
        "id": "bQJBtIJHHKrm",
        "outputId": "8ad8892f-252e-483a-e9d2-82bac0216b91"
      },
      "execution_count": 22,
      "outputs": [
        {
          "output_type": "execute_result",
          "data": {
            "text/plain": [
              "  1  \n",
              "─────\n",
              "a + s"
            ],
            "text/latex": "$\\displaystyle \\frac{1}{a + s}$"
          },
          "metadata": {},
          "execution_count": 22
        }
      ]
    },
    {
      "cell_type": "markdown",
      "source": [
        "### Laplace transform을 간소하게 처리할 수 있도록 함수 정의하기"
      ],
      "metadata": {
        "id": "K1NJ0u3QH5d8"
      }
    },
    {
      "cell_type": "code",
      "source": [
        "def L(f):\n",
        "    return sym.laplace_transform(f, t, s, noconds = True)\n",
        "def invL(F):\n",
        "    return sym.inverse_laplace_transform(F, s, t)"
      ],
      "metadata": {
        "id": "hy4fWoDGIFtr"
      },
      "execution_count": 33,
      "outputs": []
    },
    {
      "cell_type": "code",
      "source": [
        "L(f)"
      ],
      "metadata": {
        "colab": {
          "base_uri": "https://localhost:8080/",
          "height": 58
        },
        "id": "GQ7Iht3oIeT6",
        "outputId": "d393b8cd-ca0c-4af7-b400-b33b0668e536"
      },
      "execution_count": 24,
      "outputs": [
        {
          "output_type": "execute_result",
          "data": {
            "text/plain": [
              "⎛  1            ⎞\n",
              "⎜─────, -a, True⎟\n",
              "⎝a + s          ⎠"
            ],
            "text/latex": "$\\displaystyle \\left( \\frac{1}{a + s}, \\  - a, \\  \\text{True}\\right)$"
          },
          "metadata": {},
          "execution_count": 24
        }
      ]
    },
    {
      "cell_type": "code",
      "source": [
        "invL(F)"
      ],
      "metadata": {
        "colab": {
          "base_uri": "https://localhost:8080/",
          "height": 39
        },
        "id": "I7RiQ3NGIfgI",
        "outputId": "bb003caf-a53d-420c-c95d-84dc337f2b35"
      },
      "execution_count": 25,
      "outputs": [
        {
          "output_type": "execute_result",
          "data": {
            "text/plain": [
              " -a⋅t     \n",
              "ℯ    ⋅θ(t)"
            ],
            "text/latex": "$\\displaystyle e^{- a t} \\theta\\left(t\\right)$"
          },
          "metadata": {},
          "execution_count": 25
        }
      ]
    },
    {
      "cell_type": "markdown",
      "source": [
        "### theta(t)는 unit step function을 의미한다."
      ],
      "metadata": {
        "id": "pOUKGIRMIh-J"
      }
    },
    {
      "cell_type": "code",
      "source": [
        "sym.Heaviside(t)"
      ],
      "metadata": {
        "colab": {
          "base_uri": "https://localhost:8080/",
          "height": 39
        },
        "id": "T-eOqu_bI2V1",
        "outputId": "707b4867-aec0-45f3-b148-cb396cb07051"
      },
      "execution_count": 26,
      "outputs": [
        {
          "output_type": "execute_result",
          "data": {
            "text/plain": [
              "θ(t)"
            ],
            "text/latex": "$\\displaystyle \\theta\\left(t\\right)$"
          },
          "metadata": {},
          "execution_count": 26
        }
      ]
    },
    {
      "cell_type": "code",
      "source": [
        "sym.plot(sym.Heaviside(t), xlim=(-1, 3), ylim=(0, 1.5))"
      ],
      "metadata": {
        "colab": {
          "base_uri": "https://localhost:8080/",
          "height": 505
        },
        "id": "KIOmn3ppI6LF",
        "outputId": "ff2f5121-f36e-4cbe-89ac-f2ef8df1d27d"
      },
      "execution_count": 27,
      "outputs": [
        {
          "output_type": "display_data",
          "data": {
            "text/plain": [
              "<Figure size 640x480 with 1 Axes>"
            ],
            "image/png": "[encoded data removed]"
          },
          "metadata": {}
        },
        {
          "output_type": "execute_result",
          "data": {
            "text/plain": [
              "<sympy.plotting.plot.Plot at 0x7830f637f7c0>"
            ]
          },
          "metadata": {},
          "execution_count": 27
        }
      ]
    },
    {
      "cell_type": "markdown",
      "source": [
        "### 함수 내 변수에 특정 숫자를 대입하는 방법"
      ],
      "metadata": {
        "id": "R-roxxDJJCw8"
      }
    },
    {
      "cell_type": "code",
      "source": [
        "invL(F).subs({a: 2})"
      ],
      "metadata": {
        "colab": {
          "base_uri": "https://localhost:8080/",
          "height": 39
        },
        "id": "V8KrDmfuJiCf",
        "outputId": "de8d3928-eeab-4516-d813-b4af02061b98"
      },
      "execution_count": 28,
      "outputs": [
        {
          "output_type": "execute_result",
          "data": {
            "text/plain": [
              " -2⋅t     \n",
              "ℯ    ⋅θ(t)"
            ],
            "text/latex": "$\\displaystyle e^{- 2 t} \\theta\\left(t\\right)$"
          },
          "metadata": {},
          "execution_count": 28
        }
      ]
    },
    {
      "cell_type": "markdown",
      "source": [
        "### 다양한 함수를 Laplace transform 해보기"
      ],
      "metadata": {
        "id": "oN58M6eiJpwg"
      }
    },
    {
      "cell_type": "code",
      "source": [
        "omega = sym.symbols('omega', real=True)\n",
        "exp = sym.exp\n",
        "sin = sym.sin\n",
        "cos = sym.cos\n",
        "functions= [1,\n",
        "            5,\n",
        "            exp(-a*t),\n",
        "            t*exp(-a*t),\n",
        "            t**2*exp(-a*t),\n",
        "            sin(omega*t),\n",
        "            cos(omega*t),\n",
        "            1 - exp(-a*t),\n",
        "            exp(-a*t)*sin(omega*t),\n",
        "            exp(-a*t)*cos(omega*t),\n",
        "            ]\n",
        "functions"
      ],
      "metadata": {
        "colab": {
          "base_uri": "https://localhost:8080/",
          "height": 39
        },
        "id": "vgtqvH9iJvOE",
        "outputId": "f92f6a10-81c4-4bda-ae23-3ee243b73609"
      },
      "execution_count": 29,
      "outputs": [
        {
          "output_type": "execute_result",
          "data": {
            "text/plain": [
              "⎡       -a⋅t     -a⋅t   2  -a⋅t                           -a⋅t   -a⋅t         \n",
              "⎣1, 5, ℯ    , t⋅ℯ    , t ⋅ℯ    , sin(ω⋅t), cos(ω⋅t), 1 - ℯ    , ℯ    ⋅sin(ω⋅t)\n",
              "\n",
              "   -a⋅t         ⎤\n",
              ", ℯ    ⋅cos(ω⋅t)⎦"
            ],
            "text/latex": "$\\displaystyle \\left[ 1, \\  5, \\  e^{- a t}, \\  t e^{- a t}, \\  t^{2} e^{- a t}, \\  \\sin{\\left(\\omega t \\right)}, \\  \\cos{\\left(\\omega t \\right)}, \\  1 - e^{- a t}, \\  e^{- a t} \\sin{\\left(\\omega t \\right)}, \\  e^{- a t} \\cos{\\left(\\omega t \\right)}\\right]$"
          },
          "metadata": {},
          "execution_count": 29
        }
      ]
    },
    {
      "cell_type": "markdown",
      "source": [
        "### 다양한 함수를 inverse Laplace transform 해보기"
      ],
      "metadata": {
        "id": "7dP7dT9WKjiL"
      }
    },
    {
      "cell_type": "code",
      "source": [
        "Fs = [L(f) for f in functions]\n",
        "Fs"
      ],
      "metadata": {
        "colab": {
          "base_uri": "https://localhost:8080/",
          "height": 68
        },
        "id": "4tXXgvZmKoMz",
        "outputId": "bc0cbeac-3169-4ccc-cfc7-f4e40a56d983"
      },
      "execution_count": 34,
      "outputs": [
        {
          "output_type": "execute_result",
          "data": {
            "text/plain": [
              "⎡1  5    1       1         2         ω        s         1     1        ω      \n",
              "⎢─, ─, ─────, ────────, ────────, ───────, ───────, - ───── + ─, ─────────────\n",
              "⎢s  s  a + s         2         3   2    2   2    2    a + s   s   2          2\n",
              "⎣             (a + s)   (a + s)   ω  + s   ω  + s                ω  + (a + s) \n",
              "\n",
              "      a + s    ⎤\n",
              ", ─────────────⎥\n",
              "   2          2⎥\n",
              "  ω  + (a + s) ⎦"
            ],
            "text/latex": "$\\displaystyle \\left[ \\frac{1}{s}, \\  \\frac{5}{s}, \\  \\frac{1}{a + s}, \\  \\frac{1}{\\left(a + s\\right)^{2}}, \\  \\frac{2}{\\left(a + s\\right)^{3}}, \\  \\frac{\\omega}{\\omega^{2} + s^{2}}, \\  \\frac{s}{\\omega^{2} + s^{2}}, \\  - \\frac{1}{a + s} + \\frac{1}{s}, \\  \\frac{\\omega}{\\omega^{2} + \\left(a + s\\right)^{2}}, \\  \\frac{a + s}{\\omega^{2} + \\left(a + s\\right)^{2}}\\right]$"
          },
          "metadata": {},
          "execution_count": 34
        }
      ]
    }
  ]
}